{
 "cells": [
  {
   "cell_type": "raw",
   "metadata": {},
   "source": [
    "This notebook deals with extracting text from the pdf files"
   ]
  },
  {
   "cell_type": "code",
   "execution_count": 1,
   "metadata": {},
   "outputs": [
    {
     "name": "stdout",
     "output_type": "stream",
     "text": [
      "Collecting tika\n",
      "  Downloading https://files.pythonhosted.org/packages/10/75/b566e446ffcf292f10c8d84c15a3d91615fe3d7ca8072a17c949d4e84b66/tika-1.19.tar.gz\n",
      "Requirement already satisfied: setuptools in d:\\myana\\envs\\mynew\\lib\\site-packages (from tika) (40.8.0)\n",
      "Requirement already satisfied: requests in d:\\myana\\envs\\mynew\\lib\\site-packages (from tika) (2.21.0)\n",
      "Requirement already satisfied: urllib3<1.25,>=1.21.1 in d:\\myana\\envs\\mynew\\lib\\site-packages (from requests->tika) (1.24.1)\n",
      "Requirement already satisfied: idna<2.9,>=2.5 in d:\\myana\\envs\\mynew\\lib\\site-packages (from requests->tika) (2.8)\n",
      "Requirement already satisfied: certifi>=2017.4.17 in d:\\myana\\envs\\mynew\\lib\\site-packages (from requests->tika) (2018.11.29)\n",
      "Requirement already satisfied: chardet<3.1.0,>=3.0.2 in d:\\myana\\envs\\mynew\\lib\\site-packages (from requests->tika) (3.0.4)\n",
      "Building wheels for collected packages: tika\n",
      "  Building wheel for tika (setup.py): started\n",
      "  Building wheel for tika (setup.py): finished with status 'done'\n",
      "  Stored in directory: C:\\Users\\yeshu\\AppData\\Local\\pip\\Cache\\wheels\\b4\\db\\8a\\3a3f0c0725448eaa92703e3dda71e29dc13a119ff6c1036848\n",
      "Successfully built tika\n",
      "Installing collected packages: tika\n",
      "Successfully installed tika-1.19\n"
     ]
    }
   ],
   "source": [
    "!pip install tika"
   ]
  },
  {
   "cell_type": "code",
   "execution_count": 2,
   "metadata": {},
   "outputs": [],
   "source": [
    "# libraries:\n",
    "from tika import parser"
   ]
  },
  {
   "cell_type": "code",
   "execution_count": 4,
   "metadata": {},
   "outputs": [
    {
     "name": "stderr",
     "output_type": "stream",
     "text": [
      "2019-04-24 14:32:25,017 [MainThread  ] [INFO ]  Retrieving http://search.maven.org/remotecontent?filepath=org/apache/tika/tika-server/1.19/tika-server-1.19.jar to C:\\Users\\yeshu\\AppData\\Local\\Temp\\tika-server.jar.\n",
      "2019-04-24 14:32:48,794 [MainThread  ] [INFO ]  Retrieving http://search.maven.org/remotecontent?filepath=org/apache/tika/tika-server/1.19/tika-server-1.19.jar.md5 to C:\\Users\\yeshu\\AppData\\Local\\Temp\\tika-server.jar.md5.\n",
      "2019-04-24 14:32:49,519 [MainThread  ] [WARNI]  Failed to see startup log message; retrying...\n"
     ]
    },
    {
     "name": "stdout",
     "output_type": "stream",
     "text": [
      "\n",
      "\n",
      "\n",
      "\n",
      "\n",
      "\n",
      "\n",
      "\n",
      "\n",
      "\n",
      "\n",
      "\n",
      "\n",
      "\n",
      "\n",
      "\n",
      "\n",
      "\n",
      "\n",
      "\n",
      "\n",
      "\n",
      "\n",
      "\n",
      "\n",
      "\n",
      "\n",
      "\n",
      "\n",
      "\n",
      "\n",
      "\n",
      "\n",
      "\n",
      "\n",
      "\n",
      "\n",
      "\n",
      "\n",
      "\n",
      "\n",
      "\n",
      "\n",
      "\n",
      "\n",
      "\n",
      "\n",
      "\n",
      "\n",
      "\n",
      "\n",
      "\n",
      "\n",
      "\n",
      "\n",
      "\n",
      "Career Objective\n",
      "People I work with known me as efficient python programmer aspiring to become perfect data scientist, capable\n",
      "of developing incredible qualitative insights into any business intelligence. Prioritizes to collaborate with other\n",
      "employees and lead them even under extreme boiling pressure generating solutions.\n",
      "Education\n",
      "2015 - 2017 Masters of Science (M.Sc.)\n",
      "\n",
      "National Institute of Technology, Rourkela\n",
      "Major: Mathematics\n",
      "GPA: 6.94\n",
      "\n",
      "2012 - 2015 Bachelors of Science (B.Sc.)\n",
      "National Institute of Technology, Rourkela\n",
      "Major: Mathematics\n",
      "GPA: 6.79\n",
      "\n",
      "2009 - 2010 Intermediate in Science,\n",
      "Narayana junior college\n",
      "Percentage: 86.0\n",
      "\n",
      "2008 - 2009 SSC\n",
      "Narayana concept school\n",
      "Percentage: 92.1\n",
      "\n",
      "Projects\n",
      "\n",
      "Self Recommendation engine in python\n",
      "Collected Book-Crossing data set developed by Ziegler and using k-nearest-neighbor (knn)\n",
      "algorithm implemented the recommendation engine with content based collaborative\n",
      "filtering. My engine can recommend books to new consumers based on their interests and\n",
      "ratings.\n",
      "\n",
      "GitHub https://github.com/yeshwanthdatascience/RecommendationEngine\n",
      "\n",
      "Self General Purpose Chat-bot in python\n",
      "With help of corneal movie dialogue data set and articles from arxive website, I\n",
      "implemented a general purpose conversational chat-bot by using deep neural networks\n",
      "with LSTMs. I used Tensor Flow and keras open sourced libraries for implementation of\n",
      "my chat-bot which can be extended for making speech bot or auto spell corrections.\n",
      "\n",
      "GitHub https://github.com/yeshwanthdatascience/Chabot\n",
      "\n",
      "Self Signature forgery detection .\n",
      "\n",
      "With advance image recognition and analyzing capabilities of CNN (convolution neural\n",
      "networks), we can develop automated systems that performs the tasks like forgery\n",
      "detection. I built a system that implements that forgery detection using imageio and Tensor\n",
      "Flow. I used Siamese neural networks for this purpose.\n",
      "\n",
      "GitHub https://github.com/yeshwanthdatascience/SignatureForgeryDetection\n",
      "\n",
      "Self Face detection system.\n",
      "\n",
      "Face identification and detection is revolutionizing the way of life by creating new\n",
      "possibilities in investigating and social media. I have built a system that can identify a\n",
      "person in an image and then validating him from the database. I have developed this as a\n",
      "replacement of finger print scanner for login. This is very crucial in smart phones making\n",
      "them still easy to use. I used OpenCV, keras for this purpose.\n",
      "\n",
      "GitHub https://github.com/yeshwanthdatascience/Face_recognition\n",
      "\n",
      "Self Traffic problem solution.\n",
      "Traffic has become an un-solvable challenge especially in metro cities. I built a model that\n",
      "solves the challenge of traffic. I built a model which is capable of identifying vehicles,\n",
      "reads number plates and issues fine to the respective vehicles for violating traffic rules. I\n",
      "have extended the model to sync up the traffic volume to the vehicles speed. Model knows\n",
      "the current situation of traffic and calculates the optimum speed to the vehicles so that\n",
      "vehicles have least time at the traffic signals.\n",
      "\n",
      "GitHub https://github.com/yeshwanthdatascience/TrafficChallangeAISolution\n",
      "\n",
      "Yeshwanth Sai Melpati\n",
      "\n",
      "https://github.com/yeshwanthdatascience/Chabot\n",
      "https://github.com/yeshwanthdatascience/Face_recognition\n",
      "\n",
      "\n",
      "Work Experience (2 years and 1 month )\n",
      "Organization: J S Arun enterprises, Hyderabad. (May 2016 - July 2016 & May 2015 - July 2017)\n",
      "Role: Data analyst\n",
      "Technologies: R software and Python.\n",
      "Responsibilities: I have taken past one-year organization data. I made all data treatment for cleansing the\n",
      "\n",
      "data and with Root cause analysis (RCA) approach with logistic regression I have\n",
      "identified the market strategy and suggested many business decisions.\n",
      "\n",
      "Organization: Innominds Software, Hyderabad. (24th July2017 – Present )\n",
      "Role: Software developer\n",
      "Technologies: Machine Learning, Angular.\n",
      "Responsibilities: I am fortunate enough to join Innominds, where I worked with data analytic team. We\n",
      "\n",
      "solve data challenges that hinder enterprises today. Our data mining framework iFusion,\n",
      "simplifies data preparation so we can interact with data quickly and understand key\n",
      "relationships more intuitively helps us build powerful, stable and accurate models\n",
      "quickly and easily. I build a chat-bot as part of challenge.\n",
      "\n",
      "Programming Languages\n",
      "Python Proficient\n",
      "\n",
      "R software Proficient\n",
      "\n",
      "Java-script Proficient.\n",
      "\n",
      "Technical skills\n",
      "MySQL Proficient\n",
      "\n",
      "Angular. Intermediate\n",
      "\n",
      "HTML/ CSS Intermediate.\n",
      "\n",
      "Mathematical skills\n",
      "Statistics Probability\n",
      "\n",
      "Optimization Graph theory\n",
      "\n",
      "Discrete mathematics Linear Algebra.\n",
      "\n",
      "Personal skills\n",
      "1. Strong in mathematical and statistical subjects like Probability and Distributions, Regression.\n",
      "2. Curios to learn latest technology relating to Artificial Intelligence (AI), as a result very active in online\n",
      "learning platforms like linked-in learning, data camp, plural-sight, edx, coursera etc.\n",
      "3. Strong quantitative analytical skills which helped me to win many Olympiad competitions right from my\n",
      "childhood.\n",
      "4. Strong programming skills proved me a way to participate into DBS hack2hire competition where I had\n",
      "developed approaches to solve some banking related problems like forecasting.\n",
      "5. Able to work on databases to store, run and access data by easily framing complex SQL queries.\n",
      "6.Has experience and hands on all data treatment methods using libraries like pandas, numpy , sqlite3, scikit-\n",
      "learn.\n",
      "Certifications\n",
      "\n",
      "1. Machine learning A-Z from Udemy using python.\n",
      "2. Advanced Python from LinkedIn Learning Insiders Program.\n",
      "3. Biomedical Image Analysis in Python Course from Data Camp.\n",
      "4. Building and Deploying Deep Learning Applications with Tensor Flow from LinkedIn Learning Insiders\n",
      "program.\n",
      "5. Deep Learning Face Recognition from LinkedIn Learning Insiders Program.\n",
      "6. Neural Networks and Convolution Neural Networks essential training from Pluralsight.\n",
      "7. Data visualization in python form IBM Cognitive Class.\n",
      "8. Deep Learning fundamentals from IBM Cognitive Class.\n",
      "9. Deep learning applications by keras 2.0 from linked-in learning.\n",
      "10. Machine learning with Python from cognitive class.\n",
      "11. MySQL fundamentals from solo learn.\n",
      "12. Data Science methodologies from IBM Cognitive Class.\n",
      "\n",
      "\n",
      "\n",
      "Additional activities\n",
      "\n",
      "1. Participated and won in Innominds Machine Learning Challenge in techgig.\n",
      "2. Participated Axis Bank Machine Learning Challenge in hacker earth.\n",
      "3. Participated in NMIT hackathon.\n",
      "4. Participated in Cars24 hackathon,\n",
      "5. Active in many data science online competition sites like Kaggle, driven-data, Analytic Vidhya.\n",
      "6. Actively lead our team of twenty-five members for many dance competitions in and out of our college\n",
      "including prestigious IIT Bombay fest and IIT Kharagpur fest.\n",
      "7. Actively participated in elocution competitions and won prizes.\n",
      "\n",
      "Personal details\n",
      "Date of Birth: 4 March 1994.\n",
      "Phone: +91 7978055439\n",
      "Email: yeshudatascience@gmail.com,\n",
      "LinkedIn: https://www.linkedin.com/in/yeshwanthsaimelpati\n",
      "\n",
      "\n",
      "\n"
     ]
    }
   ],
   "source": [
    "raw = parser.from_file('../Data/sample.pdf')"
   ]
  },
  {
   "cell_type": "code",
   "execution_count": 6,
   "metadata": {},
   "outputs": [
    {
     "data": {
      "text/plain": [
       "str"
      ]
     },
     "execution_count": 6,
     "metadata": {},
     "output_type": "execute_result"
    }
   ],
   "source": [
    "type(raw['content'])"
   ]
  },
  {
   "cell_type": "code",
   "execution_count": 7,
   "metadata": {},
   "outputs": [],
   "source": [
    "text = str(raw['content'])"
   ]
  },
  {
   "cell_type": "code",
   "execution_count": 9,
   "metadata": {},
   "outputs": [],
   "source": [
    "text = text.replace('\\n' ,'')"
   ]
  },
  {
   "cell_type": "code",
   "execution_count": 10,
   "metadata": {},
   "outputs": [
    {
     "data": {
      "text/plain": [
       "'Career ObjectivePeople I work with known me as efficient python programmer aspiring to become perfect data scientist, capableof developing incredible qualitative insights into any business intelligence. Prioritizes to collaborate with otheremployees and lead them even under extreme boiling pressure generating solutions.Education2015 - 2017 Masters of Science (M.Sc.)National Institute of Technology, RourkelaMajor: MathematicsGPA: 6.942012 - 2015 Bachelors of Science (B.Sc.)National Institute of Technology, RourkelaMajor: MathematicsGPA: 6.792009 - 2010 Intermediate in Science,Narayana junior collegePercentage: 86.02008 - 2009 SSCNarayana concept schoolPercentage: 92.1ProjectsSelf Recommendation engine in pythonCollected Book-Crossing data set developed by Ziegler and using k-nearest-neighbor (knn)algorithm implemented the recommendation engine with content based collaborativefiltering. My engine can recommend books to new consumers based on their interests andratings.GitHub https://github.com/yeshwanthdatascience/RecommendationEngineSelf General Purpose Chat-bot in pythonWith help of corneal movie dialogue data set and articles from arxive website, Iimplemented a general purpose conversational chat-bot by using deep neural networkswith LSTMs. I used Tensor Flow and keras open sourced libraries for implementation ofmy chat-bot which can be extended for making speech bot or auto spell corrections.GitHub https://github.com/yeshwanthdatascience/ChabotSelf Signature forgery detection .With advance image recognition and analyzing capabilities of CNN (convolution neuralnetworks), we can develop automated systems that performs the tasks like forgerydetection. I built a system that implements that forgery detection using imageio and TensorFlow. I used Siamese neural networks for this purpose.GitHub https://github.com/yeshwanthdatascience/SignatureForgeryDetectionSelf Face detection system.Face identification and detection is revolutionizing the way of life by creating newpossibilities in investigating and social media. I have built a system that can identify aperson in an image and then validating him from the database. I have developed this as areplacement of finger print scanner for login. This is very crucial in smart phones makingthem still easy to use. I used OpenCV, keras for this purpose.GitHub https://github.com/yeshwanthdatascience/Face_recognitionSelf Traffic problem solution.Traffic has become an un-solvable challenge especially in metro cities. I built a model thatsolves the challenge of traffic. I built a model which is capable of identifying vehicles,reads number plates and issues fine to the respective vehicles for violating traffic rules. Ihave extended the model to sync up the traffic volume to the vehicles speed. Model knowsthe current situation of traffic and calculates the optimum speed to the vehicles so thatvehicles have least time at the traffic signals.GitHub https://github.com/yeshwanthdatascience/TrafficChallangeAISolutionYeshwanth Sai Melpatihttps://github.com/yeshwanthdatascience/Chabothttps://github.com/yeshwanthdatascience/Face_recognitionWork Experience (2 years and 1 month )Organization: J S Arun enterprises, Hyderabad. (May 2016 - July 2016 & May 2015 - July 2017)Role: Data analystTechnologies: R software and Python.Responsibilities: I have taken past one-year organization data. I made all data treatment for cleansing thedata and with Root cause analysis (RCA) approach with logistic regression I haveidentified the market strategy and suggested many business decisions.Organization: Innominds Software, Hyderabad. (24th July2017 – Present )Role: Software developerTechnologies: Machine Learning, Angular.Responsibilities: I am fortunate enough to join Innominds, where I worked with data analytic team. Wesolve data challenges that hinder enterprises today. Our data mining framework iFusion,simplifies data preparation so we can interact with data quickly and understand keyrelationships more intuitively helps us build powerful, stable and accurate modelsquickly and easily. I build a chat-bot as part of challenge.Programming LanguagesPython ProficientR software ProficientJava-script Proficient.Technical skillsMySQL ProficientAngular. IntermediateHTML/ CSS Intermediate.Mathematical skillsStatistics ProbabilityOptimization Graph theoryDiscrete mathematics Linear Algebra.Personal skills1. Strong in mathematical and statistical subjects like Probability and Distributions, Regression.2. Curios to learn latest technology relating to Artificial Intelligence (AI), as a result very active in onlinelearning platforms like linked-in learning, data camp, plural-sight, edx, coursera etc.3. Strong quantitative analytical skills which helped me to win many Olympiad competitions right from mychildhood.4. Strong programming skills proved me a way to participate into DBS hack2hire competition where I haddeveloped approaches to solve some banking related problems like forecasting.5. Able to work on databases to store, run and access data by easily framing complex SQL queries.6.Has experience and hands on all data treatment methods using libraries like pandas, numpy , sqlite3, scikit-learn.Certifications1. Machine learning A-Z from Udemy using python.2. Advanced Python from LinkedIn Learning Insiders Program.3. Biomedical Image Analysis in Python Course from Data Camp.4. Building and Deploying Deep Learning Applications with Tensor Flow from LinkedIn Learning Insidersprogram.5. Deep Learning Face Recognition from LinkedIn Learning Insiders Program.6. Neural Networks and Convolution Neural Networks essential training from Pluralsight.7. Data visualization in python form IBM Cognitive Class.8. Deep Learning fundamentals from IBM Cognitive Class.9. Deep learning applications by keras 2.0 from linked-in learning.10. Machine learning with Python from cognitive class.11. MySQL fundamentals from solo learn.12. Data Science methodologies from IBM Cognitive Class.Additional activities1. Participated and won in Innominds Machine Learning Challenge in techgig.2. Participated Axis Bank Machine Learning Challenge in hacker earth.3. Participated in NMIT hackathon.4. Participated in Cars24 hackathon,5. Active in many data science online competition sites like Kaggle, driven-data, Analytic Vidhya.6. Actively lead our team of twenty-five members for many dance competitions in and out of our collegeincluding prestigious IIT Bombay fest and IIT Kharagpur fest.7. Actively participated in elocution competitions and won prizes.Personal detailsDate of Birth: 4 March 1994.Phone: +91 7978055439Email: yeshudatascience@gmail.com,LinkedIn: https://www.linkedin.com/in/yeshwanthsaimelpati'"
      ]
     },
     "execution_count": 10,
     "metadata": {},
     "output_type": "execute_result"
    }
   ],
   "source": [
    "text"
   ]
  },
  {
   "cell_type": "code",
   "execution_count": null,
   "metadata": {},
   "outputs": [],
   "source": []
  }
 ],
 "metadata": {
  "kernelspec": {
   "display_name": "Python 3",
   "language": "python",
   "name": "python3"
  },
  "language_info": {
   "codemirror_mode": {
    "name": "ipython",
    "version": 3
   },
   "file_extension": ".py",
   "mimetype": "text/x-python",
   "name": "python",
   "nbconvert_exporter": "python",
   "pygments_lexer": "ipython3",
   "version": "3.6.8"
  }
 },
 "nbformat": 4,
 "nbformat_minor": 2
}
