{
 "cells": [
  {
   "cell_type": "raw",
   "metadata": {},
   "source": [
    "This notebook deals with\n",
    "1. extracting text from pdf file\n",
    "2. summarizing all the paragraphs\n",
    "3. for a given question all the relavent pragrams are given"
   ]
  },
  {
   "cell_type": "code",
   "execution_count": 18,
   "metadata": {
    "scrolled": true
   },
   "outputs": [
    {
     "name": "stderr",
     "output_type": "stream",
     "text": [
      "D:\\MyAna\\envs\\myNew\\lib\\site-packages\\gensim\\utils.py:1197: UserWarning: detected Windows; aliasing chunkize to chunkize_serial\n",
      "  warnings.warn(\"detected Windows; aliasing chunkize to chunkize_serial\")\n"
     ]
    }
   ],
   "source": [
    "# Libraries:\n",
    "\n",
    "# extracting the pdf file\n",
    "from tika import parser\n",
    "# summarizing the text:\n",
    "from gensim.summarization.summarizer import summarize"
   ]
  },
  {
   "cell_type": "code",
   "execution_count": 2,
   "metadata": {},
   "outputs": [],
   "source": [
    "raw = parser.from_file('../Data/manual.pdf')"
   ]
  },
  {
   "cell_type": "code",
   "execution_count": 3,
   "metadata": {},
   "outputs": [],
   "source": [
    "text = raw['content']"
   ]
  },
  {
   "cell_type": "code",
   "execution_count": 5,
   "metadata": {},
   "outputs": [],
   "source": [
    "# Extracting the paragraphs"
   ]
  },
  {
   "cell_type": "code",
   "execution_count": 13,
   "metadata": {},
   "outputs": [],
   "source": [
    "text_paragraphs = text.split('\\n\\n')"
   ]
  },
  {
   "cell_type": "code",
   "execution_count": 15,
   "metadata": {},
   "outputs": [],
   "source": [
    "text_paragraphs_cleaned = [para for para in text_paragraphs if len(para) > 1]"
   ]
  },
  {
   "cell_type": "code",
   "execution_count": 28,
   "metadata": {},
   "outputs": [],
   "source": [
    "def summarize_paragraph(para):\n",
    "    try:\n",
    "        return summarize(para)\n",
    "    except:\n",
    "        return para\n",
    "text_paragraphs_summarized = [summarize_paragraph(para) for para in text_paragraphs_cleaned]"
   ]
  },
  {
   "cell_type": "code",
   "execution_count": 30,
   "metadata": {},
   "outputs": [],
   "source": [
    "text_paragraphs_summarized_cleaned = [ para for para in text_paragraphs_summarized if len(para) > 1]"
   ]
  },
  {
   "cell_type": "code",
   "execution_count": null,
   "metadata": {},
   "outputs": [],
   "source": []
  },
  {
   "cell_type": "code",
   "execution_count": 32,
   "metadata": {},
   "outputs": [],
   "source": [
    "questions = [\n",
    "\" How much money do I need to collect to reinstate a policy?\",\n",
    "\"Is there going to be a refund due to a policy change?\",\n",
    "\"How would I change the information for the electronic payments on the website?\",\n",
    "\"Can I change the payment plan and how much would the insured need to pay?\",\n",
    "\"Why are the insured’s policies on different account numbers?\",\n",
    "\"Insured’s policies are on the same account why are there separate invoices issued for each policy?\",\n",
    "\"Can we get a reinstatement fee waived?\",\n",
    "\"When will a refund be mailed?\",\n",
    "\"What happened to my audit credit?\",\n",
    "\"Agent asking how to retrieve copies of invoices.\",\n",
    "\"Agent asking to have the electronic payments removed.\"]\n"
   ]
  },
  {
   "cell_type": "code",
   "execution_count": null,
   "metadata": {},
   "outputs": [],
   "source": []
  },
  {
   "cell_type": "code",
   "execution_count": 33,
   "metadata": {},
   "outputs": [],
   "source": [
    "from sklearn.feature_extraction.text import TfidfVectorizer"
   ]
  },
  {
   "cell_type": "code",
   "execution_count": 34,
   "metadata": {},
   "outputs": [],
   "source": [
    "tfv = TfidfVectorizer(min_df = 1, stop_words = 'english')"
   ]
  },
  {
   "cell_type": "code",
   "execution_count": 35,
   "metadata": {},
   "outputs": [],
   "source": [
    "tfv_paras = tfv.fit_transform(text_paragraphs_summarized_cleaned)"
   ]
  },
  {
   "cell_type": "code",
   "execution_count": 40,
   "metadata": {},
   "outputs": [],
   "source": [
    "from sklearn.metrics.pairwise import cosine_similarity\n",
    "import numpy as np"
   ]
  },
  {
   "cell_type": "code",
   "execution_count": 41,
   "metadata": {},
   "outputs": [
    {
     "name": "stdout",
     "output_type": "stream",
     "text": [
      "for question:   How much money do I need to collect to reinstate a policy?\n",
      "The answer is:   Policies on the same account do not need to have common effective dates or bill plans.\n",
      "\n",
      "\n",
      "for question:  Is there going to be a refund due to a policy change?\n",
      "The answer is:   \n",
      "Other than Policy Express \n",
      "\n",
      "\n",
      "for question:  How would I change the information for the electronic payments on the website?\n",
      "The answer is:   \n",
      "● Please allow up to three business days for payments made through the Hastings Mutual website \n",
      "\n",
      "\n",
      "for question:  Can I change the payment plan and how much would the insured need to pay?\n",
      "The answer is:  requirements to be eligible for an installment plan must remain on full pay for two policy terms.\n",
      "plan changes to an installment plan may be requested after policy eligibility rules and the two term \n",
      "\n",
      "\n",
      "for question:  Why are the insured’s policies on different account numbers?\n",
      "The answer is:  Commercial Policies \n",
      " \n",
      "\n",
      "\n",
      "for question:  Insured’s policies are on the same account why are there separate invoices issued for each policy?\n",
      "The answer is:  Direct Bill invoices should be paid \n",
      "\n",
      "\n",
      "for question:  Can we get a reinstatement fee waived?\n",
      "The answer is:  Do not allow a policy to cancel for nonpayment of premium.\n",
      "Reinstatement of Policies Cancelled for Nonpayment of Premium \n",
      "Policies Eligible for Reinstatement - If payment is received, prior to cancellation effective date,  \n",
      "Policies Not Eligible for Reinstatement - If payment is received after the effective date and time (12:01 \n",
      "a.m.) of cancellation, the payment is applied to any earned premium unpaid on the account; any \n",
      "\n",
      "\n",
      "for question:  When will a refund be mailed?\n",
      "The answer is:  ACCO8010 (2 17).pub\n",
      "\n",
      "\n",
      "for question:  What happened to my audit credit?\n",
      "The answer is:  ● A final Audit must be completed at the end of the policy term. \n",
      "\n",
      "\n",
      "for question:  Agent asking how to retrieve copies of invoices.\n",
      "The answer is:  Direct Bill invoices should be paid \n",
      "\n",
      "\n",
      "for question:  Agent asking to have the electronic payments removed.\n",
      "The answer is:  each policy and the date received in the agent’s office.\n",
      "\n",
      "\n"
     ]
    }
   ],
   "source": [
    "for question in questions:\n",
    "    cosine_similarities = []\n",
    "    question_vector = tfv.transform([question])\n",
    "    for i in range(tfv_paras.shape[0]):\n",
    "        cosine_similarities.append(cosine_similarity(tfv_paras[i], question_vector))\n",
    "    ind = np.argmax(np.asarray(cosine_similarities))\n",
    "    print(\"for question: \",question )\n",
    "    print(\"The answer is: \",text_paragraphs_summarized_cleaned[ind])\n",
    "    print('')\n",
    "    print('')"
   ]
  },
  {
   "cell_type": "code",
   "execution_count": null,
   "metadata": {},
   "outputs": [],
   "source": []
  }
 ],
 "metadata": {
  "kernelspec": {
   "display_name": "Python 3 (ipykernel)",
   "language": "python",
   "name": "python3"
  },
  "language_info": {
   "codemirror_mode": {
    "name": "ipython",
    "version": 3
   },
   "file_extension": ".py",
   "mimetype": "text/x-python",
   "name": "python",
   "nbconvert_exporter": "python",
   "pygments_lexer": "ipython3",
   "version": "3.9.7"
  }
 },
 "nbformat": 4,
 "nbformat_minor": 2
}
